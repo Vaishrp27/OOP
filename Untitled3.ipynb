{
  "nbformat": 4,
  "nbformat_minor": 0,
  "metadata": {
    "colab": {
      "provenance": []
    },
    "kernelspec": {
      "name": "python3",
      "display_name": "Python 3"
    },
    "language_info": {
      "name": "python"
    }
  },
  "cells": [
    {
      "cell_type": "markdown",
      "source": [
        "1.What is Object-Oriented Programming (OOP)?\n",
        "\n",
        "ans.Object-oriented programming (OOP) in Python lets you structure your code by grouping related properties and behaviors into individual objects\n",
        "\n",
        "2.What is a class in OOP?\n",
        "\n",
        "ANS-A Class is like an object constructor, or a \"blueprint\" for creating objects.\n",
        "\n",
        "3.What is an object in OOP?\n",
        "\n",
        "ANS.Any entity that has attributes and behaviors is an object defined under template class.\n",
        "\n",
        "4.What is the difference between abstraction and encapsulation?\n",
        "\n",
        "ANS.-ENCAPSULATION-Encapsulation is the concept of bundling data (attributes) and methods (functions) that operate on that data into a single unit, known as a class\n",
        "ABSTRACTION-Abstraction, on the other hand, is the process of simplifying complex reality by modeling classes based on essential properties and behaviors\n",
        "\n",
        "5.What are dunder methods in Python?\n",
        "\n",
        "ANS.-Dunder methods, short for \"double underscore\" methods, are special Python methods that begin and end with double underscores (__).\n",
        "\n",
        "6.Explain the concept of inheritance in OOP?\n",
        "\n",
        "ANS.-Inheritance is a fundamental concept in object-oriented programming (OOP) that allows a class (called a child or derived class) to inherit attributes and methods from another class (called a parent or base class).\n",
        "\n",
        "7.What is polymorphism in OOP?\n",
        "\n",
        "ANS.-A proggramming mechanism that allows objects to be processed differently based on their data type or class.\n",
        "\n",
        "8.How is encapsulation achieved in Python?\n",
        "\n",
        "ANS.-There are 2 types of encapsulation i.e.- Protected & Private\n",
        "and they are acheieved by putting single underscore(_) for protected and double underscore(__) for private variables.\n",
        "\n",
        "9.What is a constructor in Python?\n",
        "\n",
        "ANS.-A constructor in Python is a special method that is automatically called when an instance (object) of a class is created. The primary purpose of a constructor is to initialize the attributes of the object.\n",
        "\n",
        "10.What are class and static methods in Python?\n",
        "\n",
        "ANS.- Class method is a method that is bound to the class and not the object of the class\n",
        "Static Method\n",
        "A static method is also a method that is bound to the class and not the object of the class. This method can’t access or modify the class state\n",
        "\n",
        "11.What is method overloading in Python?\n",
        "\n",
        "ANS.-Method overloading is a feature in object-oriented programming where multiple methods with the same name can exist but with different parameters.\n",
        "\n",
        "12.What is method overriding in OOP?\n",
        "\n",
        "ANS.- Overriding is a language feature that allows a subclass or child class to provide a specific implementation of a method that is already provided by one of its superclasses or parent classes.\n",
        "\n",
        "13.What is a property decorator in Python?\n",
        "\n",
        "ANS.-The @property decorator in Python is a built-in decorator that allows you to define methods in a class that act as getters, setters, and deleters for attributes.\n",
        "\n",
        "14.Why is polymorphism important in OOP?\n",
        "\n",
        "ANS.-It enhances code reusability, reduces code redundancy,methods of the same name perform differently in given scenarios based on the data provided,having the same function names improves code readability.\n",
        "\n",
        "15. What is an abstract class in Python?\n",
        "\n",
        "ANS.-An abstract class in Python serves as a blueprint for other classes. It allows you to define methods that must be created within any child classes built from the abstract class\n",
        "\n",
        "16.What are the advantages of OOP?\n",
        "\n",
        "ANS.-modules that communicate with one another,using inheritance, we can eliminate redundant code,It is possible that multiple instances of objects co-exist without any interference.\n",
        "\n",
        "17.What is the difference between a class variable and an instance variable?\n",
        "\n",
        "ANS.-Instance Variable is basically a class variable without a static modifier and is usually shared by all class instances.\n",
        "Class Variable is a variable that defines a specific attribute or property for a class.  \n",
        "\n",
        "\n",
        "18.What is multiple inheritance in Python?\n",
        "\n",
        "ANS.-When one parent class is inherited into a child class and that child class to aonther child class, its termed multilevel inheritance.\n",
        "\n",
        "\n",
        "19.Explain the purpose of ‘’__str__’ and ‘__repr__’ ‘ methods in Python\n",
        "\n",
        "ANS.-The repr() function, on the other hand, returns a string representation of the object that is meant to be unambiguous and complete.\n",
        "str()-Returns a human-readable string representation of the object\n",
        "\n",
        "20.What is the significance of the ‘super()’ function in Python\n",
        "\n",
        "ANS.-The super() function is used to give access to methods and properties of a parent or sibling class\n",
        "\n",
        "21.What is the significance of the __del__ method in Python\n",
        "\n",
        "ANS.-The __del__ method is used to define the actions that should be performed before an object is destroyed\n",
        "\n",
        "22.What is the difference between @staticmethod and @classmethod in Python?\n",
        "\n",
        "ANS.-\n",
        "\n",
        "23.How does polymorphism work in Python with inheritance?\n",
        "\n",
        "ANS.polymorphism allows methods in different classes to share the same name but perform distinct tasks. This is achieved through inheritance and interface design.\n",
        "\n",
        "24.What is method chaining in Python OOP?\n",
        "\n",
        "ANS.Methods chaining is a style of programming in which invoking multiple method calls occurs sequentially. It removes the pain of assigning variables at each intermediate step as\n",
        "\n",
        "25.What is the purpose of the __call__ method in Python?\n",
        "\n",
        "ANS.If you want the instances of a given class to be callable, then you need to implement the .__call__() special method in the underlying class"
      ],
      "metadata": {
        "id": "GEqE5rQSV3yO"
      }
    },
    {
      "cell_type": "code",
      "execution_count": null,
      "metadata": {
        "colab": {
          "base_uri": "https://localhost:8080/"
        },
        "id": "spp5dm_QE9oE",
        "outputId": "8b77385a-da50-4a8c-81ed-61bd996dba2f"
      },
      "outputs": [
        {
          "output_type": "stream",
          "name": "stdout",
          "text": [
            "Barks\n"
          ]
        }
      ],
      "source": [
        "#1.Create a parent class Animal with a method speak() that prints a generic message. Create a child class Dog that overrides the speak() method to print \"Bark!\".\n",
        "class animals:\n",
        "  def speak(self):\n",
        "    print(\"Animals sounds\")\n",
        "class Dog(animals):\n",
        "  def speak(self):\n",
        "    print(\"Barks\")\n",
        "d1=Dog()\n",
        "d1.speak()"
      ]
    },
    {
      "cell_type": "code",
      "source": [
        "#2. Write a program to create an abstract class Shape with a method area(). Derive classes Circle and Rectangle from it and implement the area() method in both.\n",
        "from abc import ABC, abstractmethod\n",
        "class shape:\n",
        "  def area(self):\n",
        "    pass\n",
        "class circle(shape):\n",
        "  def __init__(self,radius):\n",
        "    self.radius=radius\n",
        "\n",
        "  def area(self):\n",
        "   return 3.14*self.radius*self.radius\n",
        "\n",
        "class rectangle(shape):\n",
        "  def __init__(self,l,b):\n",
        "   self.l=l\n",
        "   self.b=b\n",
        "\n",
        "  def area(self):\n",
        "    return self.l*self.b\n",
        "\n",
        "\n",
        "circle=circle(10)\n",
        "rectangle=rectangle(4,5)\n",
        "print(f\"Area of the circle is: {circle.area()}\")\n",
        "print(f\"Area of the reactangle is:{rectangle.area()}\")\n"
      ],
      "metadata": {
        "colab": {
          "base_uri": "https://localhost:8080/"
        },
        "id": "jxB3ti8LbD6W",
        "outputId": "da348346-8d98-455f-8b22-3bfacb0f8f2f"
      },
      "execution_count": null,
      "outputs": [
        {
          "output_type": "stream",
          "name": "stdout",
          "text": [
            "area of the circle is 314.0\n",
            "area of the reactangle is 20\n"
          ]
        }
      ]
    },
    {
      "cell_type": "code",
      "source": [
        "#3. Implement a multi-level inheritance scenario where a class Vehicle has an attribute type. Derive a class Car and further derive a class ElectricCar that adds a battery attribute.\n",
        "class Vehicle:\n",
        "  def __init__(self):\n",
        "    print(\"Type Vehicle\")\n",
        "    def display(self):\n",
        "      print(f\"The type of the vehicle is {self.type}\")\n",
        "\n",
        "class car(Vehicle):\n",
        "   def __init__(self):\n",
        "    super().__init__()\n",
        "    print(\"Type Car\")\n",
        "\n",
        "class ElectricCar(car):\n",
        "   def __init__(self):\n",
        "    super().__init__()\n",
        "    print(\"Type Battery\")\n",
        "\n",
        "c=ElectricCar()\n",
        "\n",
        "\n"
      ],
      "metadata": {
        "colab": {
          "base_uri": "https://localhost:8080/"
        },
        "id": "W9xg8G1Mn0SG",
        "outputId": "b8c86ef9-a401-471a-b3bb-aea1b41f2469"
      },
      "execution_count": null,
      "outputs": [
        {
          "output_type": "stream",
          "name": "stdout",
          "text": [
            "Type Vehicle\n",
            "Type Car\n",
            "Type EVCar\n"
          ]
        }
      ]
    },
    {
      "cell_type": "code",
      "source": [
        "#5. Write a program to demonstrate encapsulation by creating a class BankAccount with private attributes balance and methods to deposit, withdraw, and check balance.\n",
        "class BankAccount:\n",
        "  def __init__(self,balance):\n",
        "    self.__balance=balance  #private attribute\n",
        "  def deposit(self):\n",
        "    print(f\"You can deposit,withdraw and check balancen Rs.{self.__balance}\") #Accessing the private attribute\n",
        "\n",
        "obj=BankAccount(10000)\n",
        "obj.deposit()\n"
      ],
      "metadata": {
        "colab": {
          "base_uri": "https://localhost:8080/"
        },
        "id": "ceMareW_0LZx",
        "outputId": "8041d755-4b28-4d2f-8517-18dcda691a37"
      },
      "execution_count": null,
      "outputs": [
        {
          "output_type": "stream",
          "name": "stdout",
          "text": [
            "You can deposit,withdraw and check balancen Rs. 10000\n"
          ]
        }
      ]
    },
    {
      "cell_type": "code",
      "source": [
        "#6. Demonstrate runtime polymorphism using a method play() in a base class Instrument. Derive classes Guitar and Piano that implement their own version of play().\n",
        "class Instrument:\n",
        "  def play(self):\n",
        "    return \"undefined\"\n",
        "\n",
        "class Guitar(Instrument):\n",
        "  def __init__(self,G):\n",
        "   self.G=G\n",
        "  def play(self):\n",
        "    print(f\"{G} is playing\")\n",
        "\n",
        "class Piano(Instrument):\n",
        "  def __init__(self,P):\n",
        "   self.P=P\n",
        "  def play(self):\n",
        "    print(f\"{P} is playing\")\n",
        "\n",
        "Ins=[Guitar(Guitar),Piano(Piano)]\n",
        "for i in Ins:\n",
        "  print(Instrument.play())\n",
        "\n",
        "\n"
      ],
      "metadata": {
        "colab": {
          "base_uri": "https://localhost:8080/",
          "height": 211
        },
        "id": "47kQvidxoQVE",
        "outputId": "f6025e39-545f-429e-80c2-50abdce372e9"
      },
      "execution_count": null,
      "outputs": [
        {
          "output_type": "error",
          "ename": "TypeError",
          "evalue": "Instrument.play() missing 1 required positional argument: 'self'",
          "traceback": [
            "\u001b[0;31m---------------------------------------------------------------------------\u001b[0m",
            "\u001b[0;31mTypeError\u001b[0m                                 Traceback (most recent call last)",
            "\u001b[0;32m<ipython-input-28-fb565eeeae3f>\u001b[0m in \u001b[0;36m<cell line: 19>\u001b[0;34m()\u001b[0m\n\u001b[1;32m     18\u001b[0m \u001b[0mIns\u001b[0m\u001b[0;34m=\u001b[0m\u001b[0;34m[\u001b[0m\u001b[0mGuitar\u001b[0m\u001b[0;34m(\u001b[0m\u001b[0mGuitar\u001b[0m\u001b[0;34m)\u001b[0m\u001b[0;34m,\u001b[0m\u001b[0mPiano\u001b[0m\u001b[0;34m(\u001b[0m\u001b[0mPiano\u001b[0m\u001b[0;34m)\u001b[0m\u001b[0;34m]\u001b[0m\u001b[0;34m\u001b[0m\u001b[0;34m\u001b[0m\u001b[0m\n\u001b[1;32m     19\u001b[0m \u001b[0;32mfor\u001b[0m \u001b[0mi\u001b[0m \u001b[0;32min\u001b[0m \u001b[0mIns\u001b[0m\u001b[0;34m:\u001b[0m\u001b[0;34m\u001b[0m\u001b[0;34m\u001b[0m\u001b[0m\n\u001b[0;32m---> 20\u001b[0;31m   \u001b[0mprint\u001b[0m\u001b[0;34m(\u001b[0m\u001b[0mInstrument\u001b[0m\u001b[0;34m.\u001b[0m\u001b[0mplay\u001b[0m\u001b[0;34m(\u001b[0m\u001b[0;34m)\u001b[0m\u001b[0;34m)\u001b[0m\u001b[0;34m\u001b[0m\u001b[0;34m\u001b[0m\u001b[0m\n\u001b[0m\u001b[1;32m     21\u001b[0m \u001b[0;34m\u001b[0m\u001b[0m\n\u001b[1;32m     22\u001b[0m \u001b[0;34m\u001b[0m\u001b[0m\n",
            "\u001b[0;31mTypeError\u001b[0m: Instrument.play() missing 1 required positional argument: 'self'"
          ]
        }
      ]
    },
    {
      "cell_type": "code",
      "source": [
        "#7. Create a class MathOperations with a class method add_numbers() to add two numbers and a static method subtract_numbers() to subtract two numbers.\n",
        "class MathOperations:\n",
        "  def __init__(self,a,b):\n",
        "    self.a=a\n",
        "    self.b=b\n",
        "  @classmethod              #CLASS METHOD\n",
        "  def add_numbers(cls,a,b):\n",
        "    print(\"The addition is:\",a+b)\n",
        "MathOperations.add_numbers(2,10)\n",
        "\n",
        "\n"
      ],
      "metadata": {
        "colab": {
          "base_uri": "https://localhost:8080/"
        },
        "id": "1n3pLiddu-ni",
        "outputId": "99d9fca3-6a95-4593-a473-7454444dc777"
      },
      "execution_count": 1,
      "outputs": [
        {
          "output_type": "stream",
          "name": "stdout",
          "text": [
            "The addition is: 12\n"
          ]
        }
      ]
    },
    {
      "cell_type": "code",
      "source": [
        "#.8Implement a class Person with a class method to count the total number of persons created.\n",
        "class Person:\n",
        "    # Class variable to keep track of the number of persons created\n",
        "    _count = 0\n",
        "\n",
        "    def __init__(self, name):\n",
        "        self.name = name\n",
        "        # Increment the count each time a new person is created\n",
        "        Person._count += 1\n",
        "\n",
        "    @classmethod\n",
        "    def get_count(cls):\n",
        "        # Class method to return the total number of persons created\n",
        "        return cls._count\n",
        "\n",
        "# Example usage:\n",
        "p1 = Person(\"Alice\")\n",
        "p2 = Person(\"Bob\")\n",
        "p3 = Person(\"Charlie\")\n",
        "\n",
        "print(Person.get_count())  # Output: 3\n"
      ],
      "metadata": {
        "id": "GrwjdTS_6iRs"
      },
      "execution_count": null,
      "outputs": []
    },
    {
      "cell_type": "code",
      "source": [
        "#9.Write a class Fraction with attributes numerator and denominator. Override the str method to display the\n",
        "fraction as \"numerator/denominator\".\n",
        "class Fraction:\n",
        "    def __init__(self, numerator, denominator):\n",
        "        self.numerator = numerator\n",
        "        self.denominator = denominator\n",
        "\n",
        "    def __str__(self):\n",
        "        return f\"{self.numerator}/{self.denominator}\"\n",
        "\n",
        "# Example usage:\n",
        "fraction = Fraction(3, 4)\n",
        "print(fraction)  # Output: 3/4"
      ],
      "metadata": {
        "id": "wva8DJIA8yHQ"
      },
      "execution_count": null,
      "outputs": []
    },
    {
      "cell_type": "code",
      "source": [
        "#10.Demonstrate operator overloading by creating a class Vector and overriding the add method to add two\n",
        "vectors.\n",
        "class Vector:\n",
        "    def __init__(self, x, y):\n",
        "        self.x = x\n",
        "        self.y = y\n",
        "\n",
        "    def __add__(self, other):\n",
        "        if isinstance(other, Vector):\n",
        "            return Vector(self.x + other.x, self.y + other.y)\n",
        "        return NotImplemented\n",
        "\n",
        "    def __repr__(self):\n",
        "        return f\"Vector({self.x}, {self.y})\"\n",
        "\n",
        "# Example usage:\n",
        "vector1 = Vector(2, 3)\n",
        "vector2 = Vector(4, 5)\n",
        "vector3 = vector1 + vector2\n",
        "\n",
        "print(vector3)  # Output: Vector(6, 8)\n"
      ],
      "metadata": {
        "id": "IuT7XgqT90i5"
      },
      "execution_count": null,
      "outputs": []
    },
    {
      "cell_type": "code",
      "source": [
        "#11.Create a class Person with attributes name and age. Add a method greet() that prints \"Hello, my name is {name} and I am {age} years old\n",
        "class person:\n",
        "  def __init__(self,name,age):\n",
        "    self.name=name\n",
        "    self.age=age\n",
        "\n",
        "  def greet(self):\n",
        "   print(f\"Hello, My name is {self.name} and i am {self.age} years old.\")\n",
        "\n",
        "obj=person(\"Vaishnavi\",23)\n",
        "obj.greet()\n"
      ],
      "metadata": {
        "colab": {
          "base_uri": "https://localhost:8080/"
        },
        "id": "IgQCs4Ne-Roy",
        "outputId": "c4536944-b904-42c0-9fb2-059d5686705c"
      },
      "execution_count": 4,
      "outputs": [
        {
          "output_type": "stream",
          "name": "stdout",
          "text": [
            "Hello, My name is Vaishnavi and i am 23 years old\n"
          ]
        }
      ]
    },
    {
      "cell_type": "code",
      "source": [
        "#12. Implement a class Student with attributes name and grades. Create a method average_grade() to compute the average of the grades.\n",
        "class Student:\n",
        "    def __init__(self, name, grades):\n",
        "        self.name = name\n",
        "        self.grades = grades\n",
        "\n",
        "    def average_grade(self):\n",
        "        if not self.grades:\n",
        "            return 0\n",
        "        return sum(self.grades) / len(self.grades)\n",
        "\n",
        "student = Student(\"Vaishnavi\", [85, 90, 78, 92])\n",
        "print(f\"{student.name}'s average grade is: {student.average_grade()}\")\n",
        "\n",
        "\n",
        "\n",
        "\n"
      ],
      "metadata": {
        "id": "k9Wqcpj-s88S",
        "colab": {
          "base_uri": "https://localhost:8080/"
        },
        "outputId": "c5c1baa4-160e-4df8-e2c8-e8545f2fc529"
      },
      "execution_count": 8,
      "outputs": [
        {
          "output_type": "stream",
          "name": "stdout",
          "text": [
            "Vaishnavi's average grade is: 86.25\n"
          ]
        }
      ]
    },
    {
      "cell_type": "code",
      "source": [
        " #14.Create a class Rectangle with methods set_dimensions() to set the dimensions and area() to calculate the area.\n",
        " class rectangle:\n",
        "  def __init__(self,l,b):\n",
        "    self.l=l\n",
        "    self.b=b\n",
        "\n",
        "  def set_dimensions(self):\n",
        "    print(\"area of the rectangle is {l*b} sq.cm\")\n",
        "\n",
        "obj=rectangle(10,20)\n",
        "obj.set_dimesnions"
      ],
      "metadata": {
        "colab": {
          "base_uri": "https://localhost:8080/",
          "height": 176
        },
        "id": "0DZUVqSwBnzJ",
        "outputId": "73759c48-b20f-48cb-b3d4-13b4030fbad3"
      },
      "execution_count": 10,
      "outputs": [
        {
          "output_type": "error",
          "ename": "AttributeError",
          "evalue": "'rectangle' object has no attribute 'set_dimesnions'",
          "traceback": [
            "\u001b[0;31m---------------------------------------------------------------------------\u001b[0m",
            "\u001b[0;31mAttributeError\u001b[0m                            Traceback (most recent call last)",
            "\u001b[0;32m<ipython-input-10-6bf9364664c9>\u001b[0m in \u001b[0;36m<cell line: 11>\u001b[0;34m()\u001b[0m\n\u001b[1;32m      9\u001b[0m \u001b[0;34m\u001b[0m\u001b[0m\n\u001b[1;32m     10\u001b[0m \u001b[0mobj\u001b[0m\u001b[0;34m=\u001b[0m\u001b[0mrectangle\u001b[0m\u001b[0;34m(\u001b[0m\u001b[0;36m10\u001b[0m\u001b[0;34m,\u001b[0m\u001b[0;36m20\u001b[0m\u001b[0;34m)\u001b[0m\u001b[0;34m\u001b[0m\u001b[0;34m\u001b[0m\u001b[0m\n\u001b[0;32m---> 11\u001b[0;31m \u001b[0mobj\u001b[0m\u001b[0;34m.\u001b[0m\u001b[0mset_dimesnions\u001b[0m\u001b[0;34m\u001b[0m\u001b[0;34m\u001b[0m\u001b[0m\n\u001b[0m",
            "\u001b[0;31mAttributeError\u001b[0m: 'rectangle' object has no attribute 'set_dimesnions'"
          ]
        }
      ]
    },
    {
      "cell_type": "code",
      "source": [
        "#.15Create a class Employee with a method calculate_salary() that computes the salary based on hours worked and hourly rate. Create a derived class Manager that adds a bonus to the salary\n",
        "class Employee:\n",
        "    def __init__(self, name, hours_worked, hourly_rate):\n",
        "        self.name = name\n",
        "        self.hours_worked = hours_worked\n",
        "        self.hourly_rate = hourly_rate\n",
        "\n",
        "    def calculate_salary(self):\n",
        "        return self.hours_worked * self.hourly_rate\n",
        "\n",
        "class Manager(Employee):\n",
        "    def __init__(self, name, hours_worked, hourly_rate, bonus):\n",
        "        super().__init__(name, hours_worked, hourly_rate)\n",
        "        self.bonus = bonus\n",
        "\n",
        "    def calculate_salary(self):\n",
        "        base_salary = super().calculate_salary()\n",
        "        return base_salary + self.bonus\n",
        "\n",
        "# Example usage:\n",
        "employee = Employee(\"John Doe\", 40, 50)\n",
        "manager = Manager(\"Jane Smith\", 40, 50, 500)\n",
        "\n",
        "print(f\"Employee Salary: {employee.calculate_salary()}\")  # Output: Employee Salary: 2000\n",
        "print(f\"Manager Salary: {manager.calculate_salary()}\")    # Output: Manager Salary: 2500\n"
      ],
      "metadata": {
        "id": "V7oZN1wMLo2F"
      },
      "execution_count": null,
      "outputs": []
    },
    {
      "cell_type": "code",
      "source": [
        "#16.Create a class Animal with an abstract method sound(). Create two derived classes Cow and Sheep that implement the sound() method.\n",
        "Sure! Here's a Python code snippet that defines an abstract class Animal with an abstract method sound, and two derived classes Cow and Sheep that implement the sound method.\n",
        "\n",
        "from abc import ABC, abstractmethod\n",
        "\n",
        "class Animal(ABC):\n",
        "    @abstractmethod\n",
        "    def sound(self):\n",
        "        pass\n",
        "\n",
        "class Cow(Animal):\n",
        "    def sound(self):\n",
        "        return \"Moo\"\n",
        "\n",
        "class Sheep(Animal):\n",
        "    def sound(self):\n",
        "        return \"Baa\"\n",
        "\n",
        "# Example usage:\n",
        "cow = Cow()\n",
        "sheep = Sheep()\n",
        "\n",
        "print(f\"Cow sound: {cow.sound()}\")\n",
        "print(f\"Sheep sound: {sheep.sound()}\")\n",
        "\n",
        "\n"
      ],
      "metadata": {
        "id": "gHcuXtECMKFw"
      },
      "execution_count": null,
      "outputs": []
    },
    {
      "cell_type": "code",
      "source": [
        "#17.Create a class Book with attributes title, author, and year_published. Add a method get_book_info() that returns a formatted string with the book's details\n",
        "class book:\n",
        "  def __init__(self,title,author,year_published):\n",
        "    self.title=tile\n",
        "    self.author=author\n",
        "    self.year_published=year_published\n",
        "\n",
        "  def get_book_info(self):\n",
        "    return f\"Title:self.title\\nAuthor:{self.author}\\nYear Published:{self.year_published}\"\n",
        "\n",
        "  obj=book(\"The tale\",\"Vaishnavi\",\"2023\")\n",
        "  obj.get_book_info()\n"
      ],
      "metadata": {
        "colab": {
          "base_uri": "https://localhost:8080/",
          "height": 332
        },
        "id": "oCPV313CMaJ1",
        "outputId": "6cb39249-bc25-4282-fda7-c4e0e2c5cd0d"
      },
      "execution_count": 17,
      "outputs": [
        {
          "output_type": "error",
          "ename": "NameError",
          "evalue": "name 'book' is not defined",
          "traceback": [
            "\u001b[0;31m---------------------------------------------------------------------------\u001b[0m",
            "\u001b[0;31mNameError\u001b[0m                                 Traceback (most recent call last)",
            "\u001b[0;32m<ipython-input-17-748c1337a5b9>\u001b[0m in \u001b[0;36m<cell line: 2>\u001b[0;34m()\u001b[0m\n\u001b[1;32m      1\u001b[0m \u001b[0;31m#17.Create a class Book with attributes title, author, and year_published. Add a method get_book_info() that returns a formatted string with the book's details\u001b[0m\u001b[0;34m\u001b[0m\u001b[0;34m\u001b[0m\u001b[0m\n\u001b[0;32m----> 2\u001b[0;31m \u001b[0;32mclass\u001b[0m \u001b[0mbook\u001b[0m\u001b[0;34m:\u001b[0m\u001b[0;34m\u001b[0m\u001b[0;34m\u001b[0m\u001b[0m\n\u001b[0m\u001b[1;32m      3\u001b[0m   \u001b[0;32mdef\u001b[0m \u001b[0m__init__\u001b[0m\u001b[0;34m(\u001b[0m\u001b[0mself\u001b[0m\u001b[0;34m,\u001b[0m\u001b[0mtitle\u001b[0m\u001b[0;34m,\u001b[0m\u001b[0mauthor\u001b[0m\u001b[0;34m,\u001b[0m\u001b[0myear_published\u001b[0m\u001b[0;34m)\u001b[0m\u001b[0;34m:\u001b[0m\u001b[0;34m\u001b[0m\u001b[0;34m\u001b[0m\u001b[0m\n\u001b[1;32m      4\u001b[0m     \u001b[0mself\u001b[0m\u001b[0;34m.\u001b[0m\u001b[0mtitle\u001b[0m\u001b[0;34m=\u001b[0m\u001b[0mtile\u001b[0m\u001b[0;34m\u001b[0m\u001b[0;34m\u001b[0m\u001b[0m\n\u001b[1;32m      5\u001b[0m     \u001b[0mself\u001b[0m\u001b[0;34m.\u001b[0m\u001b[0mauthor\u001b[0m\u001b[0;34m=\u001b[0m\u001b[0mauthor\u001b[0m\u001b[0;34m\u001b[0m\u001b[0;34m\u001b[0m\u001b[0m\n",
            "\u001b[0;32m<ipython-input-17-748c1337a5b9>\u001b[0m in \u001b[0;36mbook\u001b[0;34m()\u001b[0m\n\u001b[1;32m      9\u001b[0m     \u001b[0;32mreturn\u001b[0m \u001b[0;34mf\"Title:self.title\\nAuthor:{self.author}\\nYear Published:{self.year_published}\"\u001b[0m\u001b[0;34m\u001b[0m\u001b[0;34m\u001b[0m\u001b[0m\n\u001b[1;32m     10\u001b[0m \u001b[0;34m\u001b[0m\u001b[0m\n\u001b[0;32m---> 11\u001b[0;31m   \u001b[0mobj\u001b[0m\u001b[0;34m=\u001b[0m\u001b[0mbook\u001b[0m\u001b[0;34m(\u001b[0m\u001b[0;34m\"The tale\"\u001b[0m\u001b[0;34m,\u001b[0m\u001b[0;34m\"Vaishnavi\"\u001b[0m\u001b[0;34m,\u001b[0m\u001b[0;34m\"2023\"\u001b[0m\u001b[0;34m)\u001b[0m\u001b[0;34m\u001b[0m\u001b[0;34m\u001b[0m\u001b[0m\n\u001b[0m\u001b[1;32m     12\u001b[0m   \u001b[0mobj\u001b[0m\u001b[0;34m.\u001b[0m\u001b[0mget_book_info\u001b[0m\u001b[0;34m(\u001b[0m\u001b[0;34m)\u001b[0m\u001b[0;34m\u001b[0m\u001b[0;34m\u001b[0m\u001b[0m\n",
            "\u001b[0;31mNameError\u001b[0m: name 'book' is not defined"
          ]
        }
      ]
    }
  ]
}